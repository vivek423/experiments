{
 "cells": [
  {
   "cell_type": "code",
   "execution_count": 2,
   "metadata": {},
   "outputs": [
    {
     "name": "stderr",
     "output_type": "stream",
     "text": [
      "/Users/vivekkapoor/opt/anaconda3/lib/python3.7/site-packages/ipykernel_launcher.py:18: DeprecationWarning: Using or importing the ABCs from 'collections' instead of from 'collections.abc' is deprecated since Python 3.3,and in 3.9 it will stop working\n"
     ]
    }
   ],
   "source": [
    "import pandas as pd\n",
    "import numpy as np\n",
    "\n",
    "import scipy.stats as stats\n",
    "from scipy.stats import shapiro,normaltest\n",
    "\n",
    "import matplotlib.pyplot as plt\n",
    "%matplotlib inline\n",
    "import seaborn as sns\n",
    "\n",
    "from collections import defaultdict \n",
    "import itertools\n",
    "\n",
    "import datetime\n",
    "from datetime import datetime, date, timedelta\n",
    "from dateutil.relativedelta import relativedelta\n",
    "\n",
    "import pymssql\n",
    "\n",
    "# Credentials\n",
    "server = '172.31.10.243' \n",
    "database = 'dump_tables' \n",
    "\n",
    "user = 'vivek.kapoor'\n",
    "password = 'Y5WfWgFK}93n>8;5'\n",
    "driver = '{ODBC Driver 17 for SQL Server}'\n",
    "database = 'dump_tables' \n",
    "\n",
    "conn = pymssql.connect(host='172.31.10.243', \n",
    "                       user=user, \n",
    "                       password=password,\n",
    "                       database=database, \n",
    "                       as_dict=True)\n",
    "\n",
    "cursor = conn.cursor()"
   ]
  },
  {
   "cell_type": "code",
   "execution_count": 3,
   "metadata": {},
   "outputs": [],
   "source": [
    "# Meta for IPL dates\n",
    "\n",
    "ipl_start_date = '2020-09-19'\n",
    "ipl_end_date = '2020-11-10'\n",
    "ipl_double_headers = set(['2020-10-03', '2020-10-04', '2020-10-10', '2020-10-11', '2020-10-17', \n",
    "                          '2020-10-18', '2020-10-24', '2020-10-25', '2020-10-31', '2020-11-01'])\n",
    "\n",
    "# Minimum daily wager condition\n",
    "wager = 10000"
   ]
  },
  {
   "cell_type": "code",
   "execution_count": 4,
   "metadata": {},
   "outputs": [],
   "source": [
    "# Create IPL date range from start to end and dump it in a list\n",
    "\n",
    "ipl_sdate = date(int(ipl_start_date.split('-')[0]),\n",
    "                 int(ipl_start_date.split('-')[1]),\n",
    "                 int(ipl_start_date.split('-')[2]))\n",
    "\n",
    "ipl_edate = date(int(ipl_end_date.split('-')[0]),\n",
    "                 int(ipl_end_date.split('-')[1]),\n",
    "                 int(ipl_end_date.split('-')[2]))\n",
    "\n",
    "ipl_dates = list(pd.date_range(ipl_sdate,ipl_edate,freq='d'))"
   ]
  },
  {
   "cell_type": "code",
   "execution_count": 5,
   "metadata": {},
   "outputs": [],
   "source": [
    "# Dictionary that maps dates to playing hours.\n",
    "# Single header match days start at 1900 hours and end at 0000 hour\n",
    "# Double header match days start at 1500 hours and end at 0000 hour\n",
    "\n",
    "date_time_dict = defaultdict()\n",
    "for dt in ipl_dates:\n",
    "    if str(dt.date()) in ipl_double_headers:\n",
    "        date_time_dict[str(dt.date())] = 15\n",
    "    else:\n",
    "        date_time_dict[str(dt.date())] = 19"
   ]
  },
  {
   "cell_type": "code",
   "execution_count": 6,
   "metadata": {},
   "outputs": [],
   "source": [
    "# This keeps track of number of days into the IPL and puts these dates in a set for logical checks later\n",
    "\n",
    "date_parameters = ipl_start_date.split('-')\n",
    "today = date.today()\n",
    "\n",
    "sdate = date(int(date_parameters[0]), int(date_parameters[1]), int(date_parameters[2]))   # start date\n",
    "edate = today - timedelta(days = 1) # which is yesterday\n",
    "\n",
    "date_set = list(pd.date_range(sdate,edate,freq='d'))\n",
    "date_set = set([str(dt.date()) for dt in date_set])"
   ]
  },
  {
   "cell_type": "code",
   "execution_count": 7,
   "metadata": {},
   "outputs": [],
   "source": [
    "## Query to pull active days and wagering data using relevant conditions from SQL Server\n",
    "\n",
    "wagering_query = \"\"\"\n",
    "  select userid\n",
    "--        ,date\n",
    "--        ,type\n",
    "--        ,entryfee\n",
    "        ,case when userid%2 = 1 then 'test' else 'control' end as test_control\n",
    "        ,sum(CashgameCount*entryfee) as wager\n",
    "        ,sum(CashgameCount) as gamecount\n",
    "        ,sum(coalesce(winnings,0)+coalesce(amountlost,0)) as winnings\n",
    "        ,sum(gamewon) as gamewon\n",
    "        ,sum(gamelost) as gamelost\n",
    "        ,sum((coalesce(winnings,0)+coalesce(amountlost,0))*rake_percent) as rake\n",
    "        ,sum(gametime) as gametime\n",
    "    from Dump_tables..r2CashAndFree a with (nolock)\n",
    "   where hour >= {hr}\n",
    "     and date = '{dt}'\n",
    "     and gameType = 'CashGame'\n",
    "group by userid\n",
    "--        ,date\n",
    "--        ,type\n",
    "--        ,entryfee\n",
    "        ,case when userid%2 = 1 then 'test' else 'control' end\n",
    "\"\"\""
   ]
  },
  {
   "cell_type": "code",
   "execution_count": 8,
   "metadata": {},
   "outputs": [
    {
     "name": "stdout",
     "output_type": "stream",
     "text": [
      "Data for 2020-09-19 pulled...... \tObs running total: 65391\n",
      "Data for 2020-09-20 pulled...... \tObs running total: 130869\n",
      "Data for 2020-09-21 pulled...... \tObs running total: 198874\n",
      "Data for 2020-09-22 pulled...... \tObs running total: 265043\n",
      "Data for 2020-09-23 pulled...... \tObs running total: 330144\n",
      "Data for 2020-09-24 pulled...... \tObs running total: 396190\n",
      "Data for 2020-09-25 pulled...... \tObs running total: 461377\n",
      "Data for 2020-09-26 pulled...... \tObs running total: 527209\n",
      "Data for 2020-09-27 pulled...... \tObs running total: 581045\n",
      "Data for 2020-09-28 pulled...... \tObs running total: 634281\n",
      "Data for 2020-09-29 pulled...... \tObs running total: 690369\n",
      "Data for 2020-09-30 pulled...... \tObs running total: 745661\n",
      "Data for 2020-10-01 pulled...... \tObs running total: 800773\n",
      "Data for 2020-10-02 pulled...... \tObs running total: 856482\n",
      "Data for 2020-10-03 pulled...... \tObs running total: 926473\n",
      "Data for 2020-10-04 pulled...... \tObs running total: 995129\n",
      "Data for 2020-10-05 pulled...... \tObs running total: 1050698\n",
      "Data for 2020-10-06 pulled...... \tObs running total: 1105872\n",
      "Data for 2020-10-07 pulled...... \tObs running total: 1161678\n",
      "Data for 2020-10-08 pulled...... \tObs running total: 1218222\n",
      "\n",
      "\n",
      "Done!\n",
      "CPU times: user 17.7 s, sys: 1.13 s, total: 18.8 s\n",
      "Wall time: 41.3 s\n"
     ]
    }
   ],
   "source": [
    "%%time\n",
    "\n",
    "user_metrics = None\n",
    "\n",
    "# Execute datapull and logic\n",
    "day_count = 0\n",
    "for dt, hr in date_time_dict.items():\n",
    "    \n",
    "    if dt in date_set:\n",
    "        if user_metrics is None:\n",
    "            user_metrics = pd.read_sql_query(wagering_query.format(dt=dt,hr=hr),conn)\n",
    "        else:\n",
    "            user_metrics = pd.concat([user_metrics,pd.read_sql_query(wagering_query.format(dt=dt,hr=hr),conn)],axis=0)\n",
    "        \n",
    "        print('Data for {dt} pulled......'.format(dt=dt),'\\tObs running total:',len(user_metrics))\n",
    "            \n",
    "print('\\n')\n",
    "print('Done!')"
   ]
  },
  {
   "cell_type": "code",
   "execution_count": 9,
   "metadata": {},
   "outputs": [
    {
     "data": {
      "text/html": [
       "<div>\n",
       "<style scoped>\n",
       "    .dataframe tbody tr th:only-of-type {\n",
       "        vertical-align: middle;\n",
       "    }\n",
       "\n",
       "    .dataframe tbody tr th {\n",
       "        vertical-align: top;\n",
       "    }\n",
       "\n",
       "    .dataframe thead th {\n",
       "        text-align: right;\n",
       "    }\n",
       "</style>\n",
       "<table border=\"1\" class=\"dataframe\">\n",
       "  <thead>\n",
       "    <tr style=\"text-align: right;\">\n",
       "      <th></th>\n",
       "      <th>userid</th>\n",
       "      <th>test_control</th>\n",
       "      <th>wager</th>\n",
       "      <th>gamecount</th>\n",
       "      <th>winnings</th>\n",
       "      <th>gamewon</th>\n",
       "      <th>gamelost</th>\n",
       "      <th>rake</th>\n",
       "      <th>gametime</th>\n",
       "    </tr>\n",
       "  </thead>\n",
       "  <tbody>\n",
       "    <tr>\n",
       "      <th>0</th>\n",
       "      <td>6004</td>\n",
       "      <td>control</td>\n",
       "      <td>116</td>\n",
       "      <td>6</td>\n",
       "      <td>166.59</td>\n",
       "      <td>3.0</td>\n",
       "      <td>3.0</td>\n",
       "      <td>24.9885</td>\n",
       "      <td>2446</td>\n",
       "    </tr>\n",
       "    <tr>\n",
       "      <th>1</th>\n",
       "      <td>6046</td>\n",
       "      <td>control</td>\n",
       "      <td>10000</td>\n",
       "      <td>5</td>\n",
       "      <td>22599.40</td>\n",
       "      <td>3.0</td>\n",
       "      <td>2.0</td>\n",
       "      <td>2259.9400</td>\n",
       "      <td>4114</td>\n",
       "    </tr>\n",
       "    <tr>\n",
       "      <th>2</th>\n",
       "      <td>18424</td>\n",
       "      <td>control</td>\n",
       "      <td>28700</td>\n",
       "      <td>60</td>\n",
       "      <td>18619.28</td>\n",
       "      <td>18.0</td>\n",
       "      <td>42.0</td>\n",
       "      <td>2187.5870</td>\n",
       "      <td>6028</td>\n",
       "    </tr>\n",
       "    <tr>\n",
       "      <th>3</th>\n",
       "      <td>34956</td>\n",
       "      <td>control</td>\n",
       "      <td>35</td>\n",
       "      <td>2</td>\n",
       "      <td>50.50</td>\n",
       "      <td>1.0</td>\n",
       "      <td>1.0</td>\n",
       "      <td>7.5750</td>\n",
       "      <td>2440</td>\n",
       "    </tr>\n",
       "    <tr>\n",
       "      <th>4</th>\n",
       "      <td>41542</td>\n",
       "      <td>control</td>\n",
       "      <td>250</td>\n",
       "      <td>1</td>\n",
       "      <td>250.00</td>\n",
       "      <td>NaN</td>\n",
       "      <td>1.0</td>\n",
       "      <td>37.5000</td>\n",
       "      <td>1353</td>\n",
       "    </tr>\n",
       "  </tbody>\n",
       "</table>\n",
       "</div>"
      ],
      "text/plain": [
       "   userid test_control  wager  gamecount  winnings  gamewon  gamelost  \\\n",
       "0    6004      control    116          6    166.59      3.0       3.0   \n",
       "1    6046      control  10000          5  22599.40      3.0       2.0   \n",
       "2   18424      control  28700         60  18619.28     18.0      42.0   \n",
       "3   34956      control     35          2     50.50      1.0       1.0   \n",
       "4   41542      control    250          1    250.00      NaN       1.0   \n",
       "\n",
       "        rake  gametime  \n",
       "0    24.9885      2446  \n",
       "1  2259.9400      4114  \n",
       "2  2187.5870      6028  \n",
       "3     7.5750      2440  \n",
       "4    37.5000      1353  "
      ]
     },
     "execution_count": 9,
     "metadata": {},
     "output_type": "execute_result"
    }
   ],
   "source": [
    "user_metrics.head()"
   ]
  },
  {
   "cell_type": "markdown",
   "metadata": {},
   "source": [
    "## Check cleanliness of test"
   ]
  },
  {
   "cell_type": "code",
   "execution_count": 10,
   "metadata": {},
   "outputs": [],
   "source": [
    "from bokeh.plotting import figure\n",
    "from bokeh.io import show, output_notebook"
   ]
  },
  {
   "cell_type": "code",
   "execution_count": 11,
   "metadata": {},
   "outputs": [],
   "source": [
    "class BokehHistogram():\n",
    "\n",
    "    def __init__(self, colors=[\"SteelBlue\", \"Tan\"], height=600, width=600):\n",
    "        self.colors = colors\n",
    "        self.height = height\n",
    "        self.width = width\n",
    "\n",
    "    def hist_hover(self, dataframe, column, bins=30, log_scale=False, show_plot=True):\n",
    "        hist, edges = np.histogram(dataframe[column], bins = bins)\n",
    "        hist_df = pd.DataFrame({column: hist,\n",
    "                                 \"left\": edges[:-1],\n",
    "                                 \"right\": edges[1:]})\n",
    "        hist_df[\"interval\"] = [\"%d to %d\" % (left, right) for left, \n",
    "                               right in zip(hist_df[\"left\"], hist_df[\"right\"])]\n",
    "\n",
    "        if log_scale == True:\n",
    "            hist_df[\"log\"] = np.log(hist_df[column])\n",
    "            src = ColumnDataSource(hist_df)\n",
    "            plot = figure(plot_height = self.height, plot_width = self.width,\n",
    "                  title = \"Histogram of {}\".format(column.capitalize()),\n",
    "                  x_axis_label = column.capitalize(),\n",
    "                  y_axis_label = \"Log Count\")    \n",
    "            plot.quad(bottom = 0, top = \"log\",left = \"left\", \n",
    "                right = \"right\", source = src, fill_color = self.colors[0], \n",
    "                line_color = \"black\", fill_alpha = 0.7,\n",
    "                hover_fill_alpha = 1.0, hover_fill_color = self.colors[1])\n",
    "        else:\n",
    "            src = ColumnDataSource(hist_df)\n",
    "            plot = figure(plot_height = self.height, plot_width = self.width,\n",
    "                  title = \"Histogram of {}\".format(column.capitalize()),\n",
    "                  x_axis_label = column.capitalize(),\n",
    "                  y_axis_label = \"Count\")    \n",
    "            plot.quad(bottom = 0, top = column,left = \"left\", \n",
    "                right = \"right\", source = src, fill_color = self.colors[0], \n",
    "                line_color = \"black\", fill_alpha = 0.7,\n",
    "                hover_fill_alpha = 1.0, hover_fill_color = self.colors[1])\n",
    "\n",
    "        hover = HoverTool(tooltips = [('Interval', '@interval'),\n",
    "                                  ('Count', str(\"@\" + column))])\n",
    "        plot.add_tools(hover)\n",
    "\n",
    "        if show_plot == True:\n",
    "            show(plot)\n",
    "        else:\n",
    "            return plot\n",
    "\n",
    "    def histotabs(self, dataframe, features, log_scale=False, show_plot=False):\n",
    "        hists = []\n",
    "        for f in features:\n",
    "            h = self.hist_hover(dataframe, f, log_scale=log_scale, show_plot=show_plot)\n",
    "            p = Panel(child=h, title=f.capitalize())\n",
    "            hists.append(p)\n",
    "        t = Tabs(tabs=hists)\n",
    "        show(t)\n",
    "\n",
    "    def filtered_histotabs(self, dataframe, feature, filter_feature, log_scale=False, show_plot=False):\n",
    "        hists = []\n",
    "        for col in dataframe[filter_feature].unique():\n",
    "            sub_df = dataframe[dataframe[filter_feature] == col]\n",
    "            histo = self.hist_hover(sub_df, feature, log_scale=log_scale, show_plot=show_plot)\n",
    "            p = Panel(child = histo, title=col)\n",
    "            hists.append(p)\n",
    "        t = Tabs(tabs=hists)\n",
    "        show(t)"
   ]
  },
  {
   "cell_type": "code",
   "execution_count": 39,
   "metadata": {},
   "outputs": [],
   "source": [
    "h = BokehHistogram()"
   ]
  },
  {
   "cell_type": "code",
   "execution_count": null,
   "metadata": {},
   "outputs": [],
   "source": [
    "h.hist_hover(df.fillna(0, axis=1), 'nevents', log_scale=True)\n",
    "h.histotabs(df.fillna(0, axis=1), ['nevents', 'ndays_act', 'nchapters'], log_scale=True)\n",
    "h.filtered_histotabs(df.fillna(0, axis=1), 'nevents', 'final_cc_cname_DI', log_scale=True)"
   ]
  },
  {
   "cell_type": "markdown",
   "metadata": {},
   "source": [
    "## Visually observe boxcox to guage if normal distribution holds"
   ]
  },
  {
   "cell_type": "code",
   "execution_count": 13,
   "metadata": {},
   "outputs": [
    {
     "data": {
      "image/png": "[encoded data removed]",
      "text/plain": [
       "<Figure size 1440x576 with 1 Axes>"
      ]
     },
     "metadata": {
      "needs_background": "light"
     },
     "output_type": "display_data"
    }
   ],
   "source": [
    "# generate a boxplot to see the data distribution by treatments. Using boxplot, we can easily detect the differences \n",
    "# between different treatments\n",
    "user_metrics.boxplot(column=['rake'], by=['test_control'],figsize=(20,8))\n",
    "plt.show()"
   ]
  },
  {
   "cell_type": "markdown",
   "metadata": {},
   "source": [
    "#### If not normal, in most cases taking the log transformation brings to closer to a normal distribution. Especially in case of continuous monetory metrics - Rake, Costs, Winnings, etc"
   ]
  },
  {
   "cell_type": "code",
   "execution_count": 14,
   "metadata": {},
   "outputs": [
    {
     "data": {
      "image/png": "[encoded data removed]",
      "text/plain": [
       "<Figure size 1440x360 with 1 Axes>"
      ]
     },
     "metadata": {
      "needs_background": "light"
     },
     "output_type": "display_data"
    }
   ],
   "source": [
    "# generate a boxplot to see the data distribution by treatments. Using boxplot, we can easily detect the differences \n",
    "# between different treatments\n",
    "user_metrics['ln_rake'] = np.log(user_metrics['rake'])\n",
    "user_metrics.boxplot(column=['ln_rake'], by=['test_control'],figsize=(20,5))\n",
    "plt.show()"
   ]
  },
  {
   "cell_type": "code",
   "execution_count": null,
   "metadata": {},
   "outputs": [],
   "source": []
  },
  {
   "cell_type": "code",
   "execution_count": 15,
   "metadata": {},
   "outputs": [
    {
     "name": "stdout",
     "output_type": "stream",
     "text": [
      "Test rake count 609891\n",
      "Test rake mean 161.388632880961\n",
      "Test rake max 73860.0\n",
      "\n",
      "\n",
      "Control rake count 608331\n",
      "Control rake mean 159.08512004764384\n",
      "Control rake max 110622.29999999999\n"
     ]
    }
   ],
   "source": [
    "print('Test rake count',user_metrics[user_metrics['test_control']=='test'].rake.count())\n",
    "print('Test rake mean',user_metrics[user_metrics['test_control']=='test'].rake.mean())\n",
    "print('Test rake max',user_metrics[user_metrics['test_control']=='test'].rake.max())\n",
    "print('\\n')\n",
    "print('Control rake count',user_metrics[user_metrics['test_control']=='control'].rake.count())\n",
    "print('Control rake mean',user_metrics[user_metrics['test_control']=='control'].rake.mean())\n",
    "print('Control rake max',user_metrics[user_metrics['test_control']=='control'].rake.max())"
   ]
  },
  {
   "cell_type": "code",
   "execution_count": 22,
   "metadata": {},
   "outputs": [
    {
     "data": {
      "image/png": "[encoded data removed]",
      "text/plain": [
       "<Figure size 576x432 with 1 Axes>"
      ]
     },
     "metadata": {
      "needs_background": "light"
     },
     "output_type": "display_data"
    }
   ],
   "source": [
    "test = np.array(user_metrics[user_metrics['test_control']=='test'].ln_rake.values)\n",
    "control = np.array(user_metrics[user_metrics['test_control']=='control'].ln_rake.values)\n",
    "\n",
    "fig, ax = plt.subplots(figsize=(8, 6))\n",
    "\n",
    "sns.distplot(test, hist=True, kde=True, hist_kws={'edgecolor': 'black'}, kde_kws={'linewidth': 2}, \n",
    "             bins=50, label = 'Test',\n",
    "             color='green')\n",
    "for p in ax.patches:  # turn the histogram upside down\n",
    "    p.set_height(-p.get_height())\n",
    "for l in ax.lines:  # turn the kde curve upside down\n",
    "    l.set_ydata(-l.get_ydata())\n",
    "\n",
    "sns.distplot(control, hist=True, kde=True, hist_kws={'edgecolor': 'black'}, kde_kws={'linewidth': 2}, \n",
    "             bins=50,label = 'Control',\n",
    "             color='blue')\n",
    "# ax.set_xticks(np.arange(0, 121, 20))\n",
    "# ax.set_yticks(np.arange(0.0, 0.07, 0.01))\n",
    "ax.spines['top'].set_visible(False)\n",
    "ax.spines['right'].set_visible(False)\n",
    "\n",
    "pos_ticks = np.array([t for t in ax.get_yticks() if t > 0])\n",
    "ticks = np.concatenate([-pos_ticks[::-1], [0], pos_ticks])\n",
    "ax.set_yticks(ticks)\n",
    "ax.set_yticklabels([f'{abs(t):.2f}' for t in ticks])\n",
    "ax.spines['bottom'].set_position('zero')\n",
    "\n",
    "plt.legend()\n",
    "plt.show()"
   ]
  },
  {
   "cell_type": "markdown",
   "metadata": {},
   "source": [
    "## To double check, run normality test"
   ]
  },
  {
   "cell_type": "code",
   "execution_count": 18,
   "metadata": {},
   "outputs": [],
   "source": [
    "def normality_test(metric,variant):\n",
    "    data = user_metrics[user_metrics['test_control']==variant]\n",
    "    data = np.array(data[metric].values)\n",
    "    stat, p = normaltest(data)\n",
    "    print('Statistics=%.3f, p=%.3f' % (stat, p))\n",
    "    # interpret\n",
    "    alpha = 0.1\n",
    "    if p > alpha:\n",
    "        print(variant,':','Sample looks Gaussian (fail to reject H0)','\\n')\n",
    "    else:\n",
    "        print(variant,':','Sample does not look Gaussian (reject H0)','\\n')"
   ]
  },
  {
   "cell_type": "code",
   "execution_count": 19,
   "metadata": {},
   "outputs": [
    {
     "name": "stdout",
     "output_type": "stream",
     "text": [
      "Statistics=13512.117, p=0.000\n",
      "test : Sample does not look Gaussian (reject H0) \n",
      "\n",
      "Statistics=13305.224, p=0.000\n",
      "control : Sample does not look Gaussian (reject H0) \n",
      "\n"
     ]
    }
   ],
   "source": [
    "normality_test('ln_rake','test')\n",
    "normality_test('ln_rake','control')"
   ]
  },
  {
   "cell_type": "markdown",
   "metadata": {},
   "source": [
    "## Finally run t-test and conclude"
   ]
  },
  {
   "cell_type": "code",
   "execution_count": 20,
   "metadata": {},
   "outputs": [],
   "source": [
    "def run_ttest(metric,variant1,variant2):\n",
    "    sample1 = user_metrics[user_metrics['test_control']==variant1]\n",
    "    sample1 = np.array(sample1[metric].values)\n",
    "\n",
    "    sample2 = user_metrics[user_metrics['test_control']==variant2]\n",
    "    sample2 = np.array(sample2[metric].values)\n",
    "\n",
    "    t_stat, p_val = stats.ttest_ind(sample1, sample2, equal_var=False)\n",
    "    \n",
    "    if p_val > 0.1:\n",
    "        significance = 'Sample means are same'\n",
    "    else:\n",
    "        significance = 'Sample means are different'\n",
    "\n",
    "    print('Variant1:',variant1,'Variant2:',variant2,significance,'p_value = ',p_val,'\\n')"
   ]
  },
  {
   "cell_type": "code",
   "execution_count": 21,
   "metadata": {},
   "outputs": [
    {
     "name": "stdout",
     "output_type": "stream",
     "text": [
      "Variant1: test Variant2: control Sample means are same p_value =  0.503042668876267 \n",
      "\n"
     ]
    }
   ],
   "source": [
    "run_ttest('ln_rake','test','control')"
   ]
  },
  {
   "cell_type": "code",
   "execution_count": null,
   "metadata": {},
   "outputs": [],
   "source": []
  }
 ],
 "metadata": {
  "kernelspec": {
   "display_name": "Python 3",
   "language": "python",
   "name": "python3"
  },
  "language_info": {
   "codemirror_mode": {
    "name": "ipython",
    "version": 3
   },
   "file_extension": ".py",
   "mimetype": "text/x-python",
   "name": "python",
   "nbconvert_exporter": "python",
   "pygments_lexer": "ipython3",
   "version": "3.7.6"
  }
 },
 "nbformat": 4,
 "nbformat_minor": 4
}
